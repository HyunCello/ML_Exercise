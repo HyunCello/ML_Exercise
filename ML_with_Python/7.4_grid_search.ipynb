{
 "cells": [
  {
   "cell_type": "code",
   "execution_count": 1,
   "metadata": {},
   "outputs": [
    {
     "name": "stderr",
     "output_type": "stream",
     "text": [
      "<frozen importlib._bootstrap>:219: RuntimeWarning: numpy.ufunc size changed, may indicate binary incompatibility. Expected 192 from C header, got 216 from PyObject\n"
     ]
    }
   ],
   "source": [
    "from sklearn import datasets\n",
    "from sklearn.preprocessing import StandardScaler\n",
    "from sklearn.neighbors import KNeighborsClassifier\n",
    "from sklearn.model_selection import train_test_split\n",
    "\n",
    "from sklearn.metrics import accuracy_score\n",
    "from sklearn.metrics import confusion_matrix\n",
    "from sklearn.metrics import classification_report"
   ]
  },
  {
   "cell_type": "code",
   "execution_count": null,
   "metadata": {},
   "outputs": [],
   "source": [
    "# 꽃 데이터 불러오기\n",
    "raw_iris = datasets.load_iris()\n",
    "\n",
    "# 피처 / 타깃\n",
    "X = raw_iris\n",
    "Y = raw_iris.target\n",
    "\n",
    "# 트레이닝 / 테스트 데이터 분할\n",
    "x_tn, x_te, y_tn, y_te = train_test_split(x,y,random_state = 0)\n",
    "\n",
    "# 표준화 스케일\n",
    "x_tn_std = std_scale.transform(x_tn)\n",
    "x_te_std = std_scale.transform(x_te)\n",
    "\n",
    "best_accuracy = 0\n",
    "\n",
    "for k in [1,2,3,4,5,6,7,8,9,10]:\n",
    "    clf_knn = KNeighborsClassifier(n_neighbors = k)\n",
    "    clf_knn.fit(x_tn_std, y_tn)\n",
    "    knn_pred = clf_knn.predict(x_te_std)\n",
    "    accuracy = accuracy_score(y_te, knn_pred)\n",
    "    if accuracy > best_accuracy:\n",
    "        best_accuracy = accuracy\n",
    "        final_k = 'k' : k\n",
    "print(final_k)\n",
    "print(accuracy)\n"
   ]
  }
 ],
 "metadata": {
  "kernelspec": {
   "display_name": "Python 3.8.5 64-bit ('base': conda)",
   "name": "python385jvsc74a57bd0e134e05457d34029b6460cd73bbf1ed73f339b5b6d98c95be70b69eba114fe95"
  },
  "language_info": {
   "codemirror_mode": {
    "name": "ipython",
    "version": 3
   },
   "file_extension": ".py",
   "mimetype": "text/x-python",
   "name": "python",
   "nbconvert_exporter": "python",
   "pygments_lexer": "ipython3",
   "version": "3.8.5"
  },
  "orig_nbformat": 2
 },
 "nbformat": 4,
 "nbformat_minor": 2
}