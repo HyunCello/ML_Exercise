{
 "metadata": {
  "language_info": {
   "codemirror_mode": {
    "name": "ipython",
    "version": 3
   },
   "file_extension": ".py",
   "mimetype": "text/x-python",
   "name": "python",
   "nbconvert_exporter": "python",
   "pygments_lexer": "ipython3",
   "version": "3.7.2-final"
  },
  "orig_nbformat": 2,
  "kernelspec": {
   "name": "python3",
   "display_name": "Python 3",
   "language": "python"
  }
 },
 "nbformat": 4,
 "nbformat_minor": 2,
 "cells": [
  {
   "cell_type": "code",
   "execution_count": 6,
   "metadata": {},
   "outputs": [],
   "source": [
    "# Training Data\n",
    "x_data = [1.0, 2.0, 3.0]\n",
    "y_data = [2.0, 4.0, 6.0]\n",
    "\n",
    "w = 1.0"
   ]
  },
  {
   "cell_type": "code",
   "execution_count": 7,
   "metadata": {},
   "outputs": [],
   "source": [
    "# our model forward pass\n",
    "def forward(x):\n",
    "    return x * w\n",
    "\n",
    "# Loss function\n",
    "def loss(x, y):\n",
    "    y_pred = forward(x)\n",
    "    return (y_pred - y) * (y_pred - y)\n",
    "\n",
    "# compute gradient\n",
    "def gradient(x, y):  # d_loss/d_w\n",
    "    return 2 * x * (x * w - y)"
   ]
  },
  {
   "cell_type": "code",
   "execution_count": 8,
   "metadata": {},
   "outputs": [
    {
     "output_type": "stream",
     "name": "stdout",
     "text": [
      "Prediction (before training) 4 4.0\n\tgrad:  1.0 2.0 -2.0\n\tgrad:  2.0 4.0 -7.84\n\tgrad:  3.0 6.0 -16.23\nprogress: 0 w= 1.26 4.92\n\tgrad:  1.0 2.0 -1.48\n\tgrad:  2.0 4.0 -5.8\n\tgrad:  3.0 6.0 -12.0\nprogress: 1 w= 1.45 2.69\n\tgrad:  1.0 2.0 -1.09\n\tgrad:  2.0 4.0 -4.29\n\tgrad:  3.0 6.0 -8.87\nprogress: 2 w= 1.6 1.47\n\tgrad:  1.0 2.0 -0.81\n\tgrad:  2.0 4.0 -3.17\n\tgrad:  3.0 6.0 -6.56\nprogress: 3 w= 1.7 0.8\n\tgrad:  1.0 2.0 -0.6\n\tgrad:  2.0 4.0 -2.34\n\tgrad:  3.0 6.0 -4.85\nprogress: 4 w= 1.78 0.44\n\tgrad:  1.0 2.0 -0.44\n\tgrad:  2.0 4.0 -1.73\n\tgrad:  3.0 6.0 -3.58\nprogress: 5 w= 1.84 0.24\n\tgrad:  1.0 2.0 -0.33\n\tgrad:  2.0 4.0 -1.28\n\tgrad:  3.0 6.0 -2.65\nprogress: 6 w= 1.88 0.13\n\tgrad:  1.0 2.0 -0.24\n\tgrad:  2.0 4.0 -0.95\n\tgrad:  3.0 6.0 -1.96\nprogress: 7 w= 1.91 0.07\n\tgrad:  1.0 2.0 -0.18\n\tgrad:  2.0 4.0 -0.7\n\tgrad:  3.0 6.0 -1.45\nprogress: 8 w= 1.93 0.04\n\tgrad:  1.0 2.0 -0.13\n\tgrad:  2.0 4.0 -0.52\n\tgrad:  3.0 6.0 -1.07\nprogress: 9 w= 1.95 0.02\npredited score (after training) 4 hours of studying:  7.804863933862125\n"
     ]
    }
   ],
   "source": [
    "# Before  training\n",
    "print(\"Prediction (before training)\", 4, forward(4))\n",
    "\n",
    "# Training Loop\n",
    "for epoch in range(10):\n",
    "    for x_val, y_val in zip(x_data, y_data):\n",
    "        # Compute derivative w.r.t to the learned weights\n",
    "        # Update the weights\n",
    "        # Compute the loss and print progress\n",
    "        grad = gradient(x_val, y_val)\n",
    "        w = w - 0.01 * grad\n",
    "        print(\"\\tgrad: \", x_val, y_val, round(grad, 2))\n",
    "        l = loss(x_val, y_val)\n",
    "    print(\"progress:\", epoch, \"w=\", round(w, 2), round(l,2))\n",
    "\n",
    "# After training\n",
    "print(\"predited score (after training)\", \"4 hours of studying: \", forward(4))"
   ]
  },
  {
   "cell_type": "code",
   "execution_count": null,
   "metadata": {},
   "outputs": [],
   "source": []
  }
 ]
}