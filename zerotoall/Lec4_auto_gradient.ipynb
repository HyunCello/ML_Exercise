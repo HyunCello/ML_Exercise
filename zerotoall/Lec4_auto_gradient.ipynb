{
 "metadata": {
  "language_info": {
   "codemirror_mode": {
    "name": "ipython",
    "version": 3
   },
   "file_extension": ".py",
   "mimetype": "text/x-python",
   "name": "python",
   "nbconvert_exporter": "python",
   "pygments_lexer": "ipython3",
   "version": "3.6.9-final"
  },
  "orig_nbformat": 2,
  "kernelspec": {
   "name": "python3",
   "display_name": "Python 3",
   "language": "python"
  }
 },
 "nbformat": 4,
 "nbformat_minor": 2,
 "cells": [
  {
   "cell_type": "code",
   "execution_count": 2,
   "metadata": {},
   "outputs": [],
   "source": [
    "import torch\n",
    "import pdb"
   ]
  },
  {
   "cell_type": "code",
   "execution_count": 3,
   "metadata": {},
   "outputs": [],
   "source": [
    "x_data = [1.0, 2.0, 3.0]\n",
    "y_data = [2.0, 4.0, 6.0]\n",
    "w = torch.tensor([1.0], requires_grad=True)"
   ]
  },
  {
   "cell_type": "code",
   "execution_count": 4,
   "metadata": {},
   "outputs": [],
   "source": [
    "# our model forward pass\n",
    "def forward(x):\n",
    "    return x * w\n",
    "\n",
    "# Loss function\n",
    "def loss(y_pred, y_val):\n",
    "    return (y_pred - y_val) ** 2"
   ]
  },
  {
   "cell_type": "code",
   "execution_count": 6,
   "metadata": {},
   "outputs": [
    {
     "output_type": "stream",
     "name": "stdout",
     "text": [
      "Prediction (before training) 4 7.804864406585693\n\tgrad:  1.0 2.0 -0.09756779670715332\n\tgrad:  2.0 4.0 -0.3824653625488281\n\tgrad:  3.0 6.0 -0.7917022705078125\nEpoch: 0 | Loss: 0.017410902306437492\n\tgrad:  1.0 2.0 -0.07213282585144043\n\tgrad:  2.0 4.0 -0.2827606201171875\n\tgrad:  3.0 6.0 -0.5853137969970703\nEpoch: 1 | Loss: 0.009516451507806778\n\tgrad:  1.0 2.0 -0.053328514099121094\n\tgrad:  2.0 4.0 -0.2090473175048828\n\tgrad:  3.0 6.0 -0.43272972106933594\nEpoch: 2 | Loss: 0.005201528314501047\n\tgrad:  1.0 2.0 -0.039426326751708984\n\tgrad:  2.0 4.0 -0.15455150604248047\n\tgrad:  3.0 6.0 -0.3199195861816406\nEpoch: 3 | Loss: 0.0028430151287466288\n\tgrad:  1.0 2.0 -0.029148340225219727\n\tgrad:  2.0 4.0 -0.11426162719726562\n\tgrad:  3.0 6.0 -0.23652076721191406\nEpoch: 4 | Loss: 0.0015539465239271522\n\tgrad:  1.0 2.0 -0.021549701690673828\n\tgrad:  2.0 4.0 -0.08447456359863281\n\tgrad:  3.0 6.0 -0.17486286163330078\nEpoch: 5 | Loss: 0.0008493617060594261\n\tgrad:  1.0 2.0 -0.01593184471130371\n\tgrad:  2.0 4.0 -0.062453269958496094\n\tgrad:  3.0 6.0 -0.12927818298339844\nEpoch: 6 | Loss: 0.00046424579340964556\n\tgrad:  1.0 2.0 -0.011778593063354492\n\tgrad:  2.0 4.0 -0.046172142028808594\n\tgrad:  3.0 6.0 -0.09557533264160156\nEpoch: 7 | Loss: 0.0002537401160225272\n\tgrad:  1.0 2.0 -0.00870823860168457\n\tgrad:  2.0 4.0 -0.03413581848144531\n\tgrad:  3.0 6.0 -0.07066154479980469\nEpoch: 8 | Loss: 0.00013869594840798527\n\tgrad:  1.0 2.0 -0.006437778472900391\n\tgrad:  2.0 4.0 -0.025236129760742188\n\tgrad:  3.0 6.0 -0.052239418029785156\nEpoch: 9 | Loss: 7.580435340059921e-05\nPrediction (after training) 4 7.990480899810791\n"
     ]
    }
   ],
   "source": [
    "# Before training\n",
    "print(\"Prediction (before training)\",  4, forward(4).item())\n",
    "\n",
    "# Training loop\n",
    "for epoch in range(10):\n",
    "    for x_val, y_val in zip(x_data, y_data):\n",
    "        y_pred = forward(x_val) # 1) Forward pass\n",
    "        l = loss(y_pred, y_val) # 2) Compute loss\n",
    "        l.backward() # 3) Back propagation to update weights\n",
    "        print(\"\\tgrad: \", x_val, y_val, w.grad.item())\n",
    "        w.data = w.data - 0.01 * w.grad.item()\n",
    "\n",
    "        # Manually zero the gradients after updating weights\n",
    "        w.grad.data.zero_()\n",
    "\n",
    "    print(f\"Epoch: {epoch} | Loss: {l.item()}\")\n",
    "\n",
    "# After training\n",
    "print(\"Prediction (after training)\",  4, forward(4).item())"
   ]
  },
  {
   "cell_type": "code",
   "execution_count": null,
   "metadata": {},
   "outputs": [],
   "source": []
  }
 ]
}