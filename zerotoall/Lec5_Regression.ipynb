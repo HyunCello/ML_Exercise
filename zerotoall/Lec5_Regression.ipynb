{
 "metadata": {
  "language_info": {
   "codemirror_mode": {
    "name": "ipython",
    "version": 3
   },
   "file_extension": ".py",
   "mimetype": "text/x-python",
   "name": "python",
   "nbconvert_exporter": "python",
   "pygments_lexer": "ipython3",
   "version": "3.6.9-final"
  },
  "orig_nbformat": 2,
  "kernelspec": {
   "name": "python3",
   "display_name": "Python 3",
   "language": "python"
  }
 },
 "nbformat": 4,
 "nbformat_minor": 2,
 "cells": [
  {
   "cell_type": "code",
   "execution_count": 7,
   "metadata": {},
   "outputs": [],
   "source": [
    "# Pytorch Rhythm\n",
    "# 1. Design your model using class with Variables\n",
    "# 2. Construct loss and optimizer (Select from PyTorch API)\n",
    "# 3. Training cycle (forward, backward, update)\n",
    "from torch import nn\n",
    "import torch\n",
    "from torch import tensor\n",
    "\n",
    "x_data = tensor([[1.0],[2.0],[3.0]])\n",
    "y_data = tensor([[2.0], [4.0],[6.0]])"
   ]
  },
  {
   "cell_type": "code",
   "execution_count": 8,
   "metadata": {},
   "outputs": [],
   "source": [
    "class Model(torch.nn.Module):\n",
    "    def __init__(self):\n",
    "\n",
    "        super(Model, self).__init__()\n",
    "        self.linear = torch.nn.Linear(1,1)\n",
    "\n",
    "    def forward(self, x):\n",
    "\n",
    "        y_pred = self.linear(x)"
   ]
  },
  {
   "cell_type": "code",
   "execution_count": null,
   "metadata": {},
   "outputs": [],
   "source": []
  }
 ]
}