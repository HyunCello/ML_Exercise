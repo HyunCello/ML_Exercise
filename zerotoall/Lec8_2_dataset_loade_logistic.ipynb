{
 "metadata": {
  "language_info": {
   "codemirror_mode": {
    "name": "ipython",
    "version": 3
   },
   "file_extension": ".py",
   "mimetype": "text/x-python",
   "name": "python",
   "nbconvert_exporter": "python",
   "pygments_lexer": "ipython3",
   "version": "3.8.6"
  },
  "orig_nbformat": 2,
  "kernelspec": {
   "name": "python3",
   "display_name": "Python 3.8.6 64-bit ('pytorch_x86': conda)",
   "metadata": {
    "interpreter": {
     "hash": "3a8cc3801ef01ef31c80d9cd5834424e5f2116e58c72b200c4f5cfba4435f546"
    }
   }
  }
 },
 "nbformat": 4,
 "nbformat_minor": 2,
 "cells": [
  {
   "cell_type": "code",
   "execution_count": 1,
   "metadata": {},
   "outputs": [],
   "source": [
    "from torch.utils.data import Dataset, DataLoader\n",
    "from torch import nn, from_numpy, optim\n",
    "import numpy as np"
   ]
  },
  {
   "cell_type": "code",
   "execution_count": 5,
   "metadata": {},
   "outputs": [],
   "source": [
    "class DiabetesDataset(Dataset):\n",
    "    \"\"\" Diabetes dataset.\"\"\"\n",
    "    # Initialize your data, download, etc.\n",
    "    def __init__(self):\n",
    "        xy = np.loadtxt('./data/diabetes.csv',\n",
    "                        delimiter=',', dtype=np.float32)\n",
    "        self.len = xy.shape[0]\n",
    "        self.x_data = from_numpy(xy[:, 0:-1])\n",
    "        self.y_data = from_numpy(xy[:, [-1]])\n",
    "\n",
    "    def __getitem__(self, index):\n",
    "        return self.x_data[index], self.y_data[index]\n",
    "\n",
    "    def __len__(self):\n",
    "        return self.len\n",
    "\n",
    "\n",
    "dataset = DiabetesDataset()\n",
    "train_loader = DataLoader(dataset=dataset,\n",
    "                          batch_size=32,\n",
    "                          shuffle=True,\n",
    "                          num_workers=0)\n",
    "\n",
    "\n",
    "class Model(nn.Module):\n",
    "\n",
    "    def __init__(self):\n",
    "        \"\"\"\n",
    "        In the constructor we instantiate two nn.Linear module\n",
    "        \"\"\"\n",
    "        super(Model, self).__init__()\n",
    "        self.l1 = nn.Linear(8, 6)\n",
    "        self.l2 = nn.Linear(6, 4)\n",
    "        self.l3 = nn.Linear(4, 1)\n",
    "\n",
    "        self.sigmoid = nn.Sigmoid()\n",
    "\n",
    "    def forward(self, x):\n",
    "        \"\"\"\n",
    "        In the forward function we accept a Variable of input data and we must return\n",
    "        a Variable of output data. We can use Modules defined in the constructor as\n",
    "        well as arbitrary operators on Variables.\n",
    "        \"\"\"\n",
    "        out1 = self.sigmoid(self.l1(x))\n",
    "        out2 = self.sigmoid(self.l2(out1))\n",
    "        y_pred = self.sigmoid(self.l3(out2))\n",
    "        return y_pred\n",
    "\n",
    "\n",
    "# our model\n",
    "model = Model()\n"
   ]
  },
  {
   "cell_type": "code",
   "execution_count": 11,
   "metadata": {
    "tags": []
   },
   "outputs": [
    {
     "output_type": "stream",
     "name": "stdout",
     "text": [
      "Epoch 1 | Batch: 1 | Loss: 18.9861\nEpoch 1 | Batch: 2 | Loss: 14.1004\nEpoch 1 | Batch: 3 | Loss: 14.7339\nEpoch 1 | Batch: 4 | Loss: 14.4477\nEpoch 1 | Batch: 5 | Loss: 13.2329\nEpoch 1 | Batch: 6 | Loss: 12.4970\nEpoch 1 | Batch: 7 | Loss: 21.2320\nEpoch 1 | Batch: 8 | Loss: 12.8503\nEpoch 1 | Batch: 9 | Loss: 19.2538\nEpoch 1 | Batch: 10 | Loss: 13.0319\nEpoch 1 | Batch: 11 | Loss: 15.4932\nEpoch 1 | Batch: 12 | Loss: 17.6841\nEpoch 1 | Batch: 13 | Loss: 11.4716\nEpoch 1 | Batch: 14 | Loss: 12.5911\nEpoch 1 | Batch: 15 | Loss: 10.4066\nEpoch 1 | Batch: 16 | Loss: 8.8727\nEpoch 1 | Batch: 17 | Loss: 13.0741\nEpoch 1 | Batch: 18 | Loss: 14.5717\nEpoch 1 | Batch: 19 | Loss: 14.3533\nEpoch 1 | Batch: 20 | Loss: 14.7144\nEpoch 1 | Batch: 21 | Loss: 11.3645\nEpoch 1 | Batch: 22 | Loss: 12.9937\nEpoch 1 | Batch: 23 | Loss: 19.6055\nEpoch 1 | Batch: 24 | Loss: 12.0851\nEpoch 2 | Batch: 1 | Loss: 13.9747\nEpoch 2 | Batch: 2 | Loss: 14.1634\nEpoch 2 | Batch: 3 | Loss: 11.4045\nEpoch 2 | Batch: 4 | Loss: 11.1419\nEpoch 2 | Batch: 5 | Loss: 13.6800\nEpoch 2 | Batch: 6 | Loss: 13.3057\nEpoch 2 | Batch: 7 | Loss: 18.8867\nEpoch 2 | Batch: 8 | Loss: 16.0850\nEpoch 2 | Batch: 9 | Loss: 14.4398\nEpoch 2 | Batch: 10 | Loss: 17.3715\nEpoch 2 | Batch: 11 | Loss: 12.2338\nEpoch 2 | Batch: 12 | Loss: 15.7730\nEpoch 2 | Batch: 13 | Loss: 13.6648\nEpoch 2 | Batch: 14 | Loss: 9.9513\nEpoch 2 | Batch: 15 | Loss: 17.9271\nEpoch 2 | Batch: 16 | Loss: 16.0238\nEpoch 2 | Batch: 17 | Loss: 12.0153\nEpoch 2 | Batch: 18 | Loss: 11.7775\nEpoch 2 | Batch: 19 | Loss: 11.2219\nEpoch 2 | Batch: 20 | Loss: 19.6527\nEpoch 2 | Batch: 21 | Loss: 15.8408\nEpoch 2 | Batch: 22 | Loss: 16.4074\nEpoch 2 | Batch: 23 | Loss: 16.9117\nEpoch 2 | Batch: 24 | Loss: 9.0485\nEpoch 3 | Batch: 1 | Loss: 12.5959\nEpoch 3 | Batch: 2 | Loss: 12.5323\nEpoch 3 | Batch: 3 | Loss: 18.2039\nEpoch 3 | Batch: 4 | Loss: 10.6970\nEpoch 3 | Batch: 5 | Loss: 14.5696\nEpoch 3 | Batch: 6 | Loss: 9.0448\nEpoch 3 | Batch: 7 | Loss: 16.3679\nEpoch 3 | Batch: 8 | Loss: 12.2351\nEpoch 3 | Batch: 9 | Loss: 13.4114\nEpoch 3 | Batch: 10 | Loss: 14.5911\nEpoch 3 | Batch: 11 | Loss: 16.2178\nEpoch 3 | Batch: 12 | Loss: 11.6260\nEpoch 3 | Batch: 13 | Loss: 11.5081\nEpoch 3 | Batch: 14 | Loss: 16.0582\nEpoch 3 | Batch: 15 | Loss: 17.9012\nEpoch 3 | Batch: 16 | Loss: 15.0540\nEpoch 3 | Batch: 17 | Loss: 17.5762\nEpoch 3 | Batch: 18 | Loss: 17.2703\nEpoch 3 | Batch: 19 | Loss: 17.2323\nEpoch 3 | Batch: 20 | Loss: 14.3679\nEpoch 3 | Batch: 21 | Loss: 15.1437\nEpoch 3 | Batch: 22 | Loss: 10.3743\nEpoch 3 | Batch: 23 | Loss: 16.4148\nEpoch 3 | Batch: 24 | Loss: 12.2498\nEpoch 4 | Batch: 1 | Loss: 13.1256\nEpoch 4 | Batch: 2 | Loss: 12.5058\nEpoch 4 | Batch: 3 | Loss: 12.9819\nEpoch 4 | Batch: 4 | Loss: 15.3372\nEpoch 4 | Batch: 5 | Loss: 8.5093\nEpoch 4 | Batch: 6 | Loss: 10.5512\nEpoch 4 | Batch: 7 | Loss: 12.7996\nEpoch 4 | Batch: 8 | Loss: 20.8428\nEpoch 4 | Batch: 9 | Loss: 18.6855\nEpoch 4 | Batch: 10 | Loss: 12.4555\nEpoch 4 | Batch: 11 | Loss: 15.7392\nEpoch 4 | Batch: 12 | Loss: 20.6625\nEpoch 4 | Batch: 13 | Loss: 13.6692\nEpoch 4 | Batch: 14 | Loss: 18.7976\nEpoch 4 | Batch: 15 | Loss: 15.0628\nEpoch 4 | Batch: 16 | Loss: 13.4631\nEpoch 4 | Batch: 17 | Loss: 14.0141\nEpoch 4 | Batch: 18 | Loss: 16.2505\nEpoch 4 | Batch: 19 | Loss: 10.4673\nEpoch 4 | Batch: 20 | Loss: 10.4150\nEpoch 4 | Batch: 21 | Loss: 20.2116\nEpoch 4 | Batch: 22 | Loss: 13.9047\nEpoch 4 | Batch: 23 | Loss: 12.1225\nEpoch 4 | Batch: 24 | Loss: 9.8425\nEpoch 5 | Batch: 1 | Loss: 12.3426\nEpoch 5 | Batch: 2 | Loss: 15.2765\nEpoch 5 | Batch: 3 | Loss: 14.1096\nEpoch 5 | Batch: 4 | Loss: 16.0001\nEpoch 5 | Batch: 5 | Loss: 18.8697\nEpoch 5 | Batch: 6 | Loss: 13.2010\nEpoch 5 | Batch: 7 | Loss: 14.1315\nEpoch 5 | Batch: 8 | Loss: 16.1870\nEpoch 5 | Batch: 9 | Loss: 14.8584\nEpoch 5 | Batch: 10 | Loss: 12.4255\nEpoch 5 | Batch: 11 | Loss: 11.2715\nEpoch 5 | Batch: 12 | Loss: 21.9198\nEpoch 5 | Batch: 13 | Loss: 17.7544\nEpoch 5 | Batch: 14 | Loss: 13.7352\nEpoch 5 | Batch: 15 | Loss: 11.8186\nEpoch 5 | Batch: 16 | Loss: 14.8954\nEpoch 5 | Batch: 17 | Loss: 13.3125\nEpoch 5 | Batch: 18 | Loss: 13.0136\nEpoch 5 | Batch: 19 | Loss: 7.3465\nEpoch 5 | Batch: 20 | Loss: 14.8216\nEpoch 5 | Batch: 21 | Loss: 13.5340\nEpoch 5 | Batch: 22 | Loss: 17.4154\nEpoch 5 | Batch: 23 | Loss: 14.9299\nEpoch 5 | Batch: 24 | Loss: 10.2360\n"
     ]
    }
   ],
   "source": [
    "criterion = nn.BCELoss(reduction='sum')\n",
    "optimizer = optim.SGD(model.parameters(), lr=0.01)\n",
    "\n",
    "# Training loop\n",
    "for epoch in range(5):\n",
    "    for i, data in enumerate(train_loader, 0):\n",
    "        # get the inputs\n",
    "        inputs, labels = data\n",
    "\n",
    "        # Forward pass: Compute predicted y by passing x to the model\n",
    "        y_pred = model(inputs)\n",
    "\n",
    "        # Compute and print loss\n",
    "        loss = criterion(y_pred, labels)\n",
    "        print(f'Epoch {epoch + 1} | Batch: {i+1} | Loss: {loss.item():.4f}')\n",
    "\n",
    "        # Zero gradients, perform a backward pass, and update the weights.\n",
    "        optimizer.zero_grad()\n",
    "        loss.backward()\n",
    "        optimizer.step()"
   ]
  },
  {
   "cell_type": "code",
   "execution_count": null,
   "metadata": {},
   "outputs": [],
   "source": []
  }
 ]
}